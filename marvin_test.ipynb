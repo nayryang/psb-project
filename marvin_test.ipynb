{
 "cells": [
  {
   "cell_type": "code",
   "execution_count": 2,
   "id": "22165e1e-c4f4-4247-b09d-9b66e3e2ba0d",
   "metadata": {},
   "outputs": [
    {
     "name": "stderr",
     "output_type": "stream",
     "text": [
      "\u001b[1;33m[WARNING]: \u001b[0m\u001b[0;39mcannot initiate Sentry error reporting: [Errno 6] No such device or address.\u001b[0m \u001b[0;36m(UserWarning)\u001b[0m\n",
      "\u001b[0;34m[INFO]: \u001b[0mNo release version set. Setting default to DR17\n",
      "\u001b[1;33m[WARNING]: \u001b[0m\u001b[0;39mpath /home/neap/sas/dr17/manga/spectro/redux/v3_1_1/drpall-v3_1_1.fits cannot be found. Setting drpall to None.\u001b[0m \u001b[0;36m(MarvinUserWarning)\u001b[0m\n",
      "\u001b[1;33m[WARNING]: \u001b[0m\u001b[0;39mpath /home/neap/sas/dr17/manga/spectro/analysis/v3_1_1/3.1.0/dapall-v3_1_1-3.1.0.fits cannot be found. Setting dapall to None.\u001b[0m \u001b[0;36m(MarvinUserWarning)\u001b[0m\n"
     ]
    }
   ],
   "source": [
    "import marvin\n",
    "import matplotlib.pyplot as plt\n",
    "from marvin.tools import Maps\n",
    "import numpy as np\n",
    "%matplotlib inline"
   ]
  },
  {
   "cell_type": "code",
   "execution_count": 5,
   "id": "be5b8a6a-ace1-4230-afc6-0a1fc9a823f5",
   "metadata": {},
   "outputs": [
    {
     "name": "stdout",
     "output_type": "stream",
     "text": [
      "The autoreload extension is already loaded. To reload it, use:\n",
      "  %reload_ext autoreload\n"
     ]
    }
   ],
   "source": [
    "from histogram import plot\n",
    "%load_ext autoreload\n",
    "%autoreload 2"
   ]
  },
  {
   "cell_type": "code",
   "execution_count": 12,
   "id": "7933d095-a9b6-4182-bb45-4b8e18dc3872",
   "metadata": {},
   "outputs": [],
   "source": [
    "from astropy.io import fits"
   ]
  },
  {
   "cell_type": "code",
   "execution_count": 13,
   "id": "0d6dccbf-cb38-4b53-b3b4-5ebda1e7dfb1",
   "metadata": {},
   "outputs": [],
   "source": [
    "hdul = fits.open('drpall_psb.fits')\n",
    "data = hdul[1].data\n",
    "hdul.close()\n",
    "primary        = data['mngtarg1'] & 2**10\n",
    "secondary      = data['mngtarg1'] & 2**11\n",
    "color_enhanced = data['mngtarg1'] & 2**12\n",
    "\n",
    "plateifus = data['plateifu']"
   ]
  },
  {
   "cell_type": "code",
   "execution_count": null,
   "id": "aaa7e72a-fc30-45d4-97d9-f40db8f25d90",
   "metadata": {},
   "outputs": [],
   "source": [
    "from marvin.utils.general.general import downloadList\n",
    "downloadList(plateifus, dltype='maps')"
   ]
  },
  {
   "cell_type": "code",
   "execution_count": null,
   "id": "68e47fea-ac0a-46d4-99d6-000e1dc07a81",
   "metadata": {},
   "outputs": [
    {
     "name": "stdout",
     "output_type": "stream",
     "text": [
      "20\n"
     ]
    }
   ],
   "source": [
    "plot(plateifus)"
   ]
  },
  {
   "cell_type": "code",
   "execution_count": null,
   "id": "68dbc36a-0207-41ea-a4fd-641545169586",
   "metadata": {},
   "outputs": [],
   "source": [
    "print(len(plateifus))"
   ]
  },
  {
   "cell_type": "code",
   "execution_count": null,
   "id": "938e1641-67f3-4014-b856-6d0812543004",
   "metadata": {},
   "outputs": [],
   "source": []
  }
 ],
 "metadata": {
  "kernelspec": {
   "display_name": "Python 3 (ipykernel)",
   "language": "python",
   "name": "python3"
  },
  "language_info": {
   "codemirror_mode": {
    "name": "ipython",
    "version": 3
   },
   "file_extension": ".py",
   "mimetype": "text/x-python",
   "name": "python",
   "nbconvert_exporter": "python",
   "pygments_lexer": "ipython3",
   "version": "3.10.12"
  }
 },
 "nbformat": 4,
 "nbformat_minor": 5
}
